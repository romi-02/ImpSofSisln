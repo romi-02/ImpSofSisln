{
 "cells": [
  {
   "cell_type": "code",
   "execution_count": null,
   "id": "c8fcee2f-bda4-4b0f-9050-ddb0e49344bc",
   "metadata": {},
   "outputs": [],
   "source": [
    "\"\"\"\n",
    "Usaremos este script para enseñar Python a principiantes absolutos.\n",
    "El script es un ejemplo de Fizz-Buzz implementado en Python.\n",
    "\n",
    "El problema de FizzBuzz:\n",
    "Para todos los enteros entre 1 y 99 (incluidos ambos):\n",
    "# imprimir fizz para múltiplos de 3\n",
    "# imprimir buzz para múltiplos de 5\n",
    "# imprimir fizzbuzz para múltiplos de 3 y 5\n",
    "\"\"\"\n",
    "\n",
    "class Fizz_Buzz:\n",
    "    def fizzbuzz(max_num):\n",
    "        \n",
    "        three_mul = 'fizz'\n",
    "        five_mul = 'buzz'\n",
    "        num1 = 3\n",
    "        num2 = 5 \n",
    "\n",
    "        for i in range(1,max_num):\n",
    "            if i%num1==0 and i%num2==0:\n",
    "                print(i,three_mul+five_mul)\n",
    "            elif i%num1==0:\n",
    "                print(i,three_mul)\n",
    "            elif i%num2==0:\n",
    "                print(i,five_mul)\n",
    "\n",
    "#----START OF SCRIPT\n",
    "if __name__=='__main__':\n",
    "    \"Initialize the fizzbuzz object\"\n",
    "    fizzbuzz_obj = Fizz_Buzz\n",
    "    fizzbuzz_obj.fizzbuzz(100)\n"
   ]
  }
 ],
 "metadata": {
  "kernelspec": {
   "display_name": "Python [conda env:base] *",
   "language": "python",
   "name": "conda-base-py"
  },
  "language_info": {
   "codemirror_mode": {
    "name": "ipython",
    "version": 3
   },
   "file_extension": ".py",
   "mimetype": "text/x-python",
   "name": "python",
   "nbconvert_exporter": "python",
   "pygments_lexer": "ipython3",
   "version": "3.12.7"
  }
 },
 "nbformat": 4,
 "nbformat_minor": 5
}
